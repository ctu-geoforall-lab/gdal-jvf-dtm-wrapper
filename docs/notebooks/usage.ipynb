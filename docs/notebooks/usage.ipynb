{
 "cells": [
  {
   "cell_type": "code",
   "execution_count": 1,
   "id": "68deac4a-2f4d-4de9-aa35-8c5bf5d35441",
   "metadata": {},
   "outputs": [],
   "source": [
    "import sys\n",
    "sys.path.insert(0, '../..')"
   ]
  },
  {
   "cell_type": "markdown",
   "id": "ee48121c-8da9-4d5f-aea9-15c25f864627",
   "metadata": {},
   "source": [
    "## Otevřít datový soubor JVF DTM"
   ]
  },
  {
   "cell_type": "markdown",
   "id": "54a345bb-e01d-45ed-8a4c-7bf59b315ae1",
   "metadata": {},
   "source": [
    "Ukázka otevření datatového zdroje a výpisu základních metadata. "
   ]
  },
  {
   "cell_type": "code",
   "execution_count": 2,
   "id": "ba6a481d-ee37-4a43-8a0f-15eea778ec92",
   "metadata": {},
   "outputs": [
    {
     "name": "stdout",
     "output_type": "stream",
     "text": [
      "2025-05-01 17:42:32,560 - GdalJvfDtmWrapper - INFO - Version 1.4.3 detected\n",
      "verze: 1.4.3\n",
      "datumzapisu: 2023/12/14 08:25:00\n",
      "typzapisu: kompletní zápis\n"
     ]
    }
   ],
   "source": [
    "from gdal_jvf_dtm_wrapper import GdalJvfDtmWrapper\n",
    "\n",
    "filename = \"../../tests/sample_data/ukazka_ZPS.xml\"\n",
    "with GdalJvfDtmWrapper(filename) as wrp:\n",
    "    for k, v in wrp.meta.items():\n",
    "        print(f\"{k}: {v}\")"
   ]
  },
  {
   "cell_type": "markdown",
   "id": "236cd105-1c66-47b1-951f-640996cd9c7f",
   "metadata": {},
   "source": [
    "Výpis vrstev:"
   ]
  },
  {
   "cell_type": "code",
   "execution_count": 3,
   "id": "9f4b11d7-3a02-4f7a-805d-945d84db46f3",
   "metadata": {},
   "outputs": [
    {
     "name": "stdout",
     "output_type": "stream",
     "text": [
      "2025-05-01 17:42:47,413 - GdalJvfDtmWrapper - INFO - Version 1.4.3 detected\n",
      "Budovy#Objekt_budovy#010000000104_Budova\n",
      "\t* BudovaDefinicniBod_ZaznamyObjektu_ZaznamObjektu\n",
      "Rekreační,_kulturní_a_sakrální_stavby#Stavba_kulturní,_sakrální#010000015901_Drobná_kulturní_stavba\n",
      "\t* DrobnaKulturniStavbaBod_ZaznamyObjektu_ZaznamObjektu\n",
      "Konstrukční_prvky_objektů#Základní_konstrukční_prvek#010000029902_Hranice_budovy\n",
      "\t* HraniceBudovy_ZaznamyObjektu_ZaznamObjektu\n",
      "Konstrukční_prvky_objektů#Základní_konstrukční_prvek#010000030402_Hranice_dopravní_stavby_nebo_plochy\n",
      "\t* HraniceDopravniStavbyPlochy_ZaznamyObjektu_ZaznamObjektu\n",
      "Konstrukční_prvky_objektů#Základní_konstrukční_prvek#010000030102_Hranice_schodiště\n",
      "\t* HraniceSchodiste_ZaznamyObjektu_ZaznamObjektu\n",
      "Součásti_a_příslušenství_staveb#Stavba_společná_pro_více_skupin#010000016202_Plot\n",
      "\t* Plot_ZaznamyObjektu_ZaznamObjektu\n",
      "Geodetické_prvky#Podrobný_bod#010000021801_Podrobný_bod_zps\n",
      "\t* PodrobnyBodZPS_ZaznamyObjektu_ZaznamObjektu\n",
      "Vodstvo,_vegetace_a_terén#Terénní_útvar#010000021702_Terénní_hrana\n",
      "\t* TerenniHrana_ZaznamyObjektu_ZaznamObjektu\n"
     ]
    }
   ],
   "source": [
    "with GdalJvfDtmWrapper(filename) as wrp:\n",
    "    for layer_name, layer in wrp.layers.items():\n",
    "        print(f\"{layer_name}\\n\\t* {layer.GetName()}\")"
   ]
  },
  {
   "cell_type": "markdown",
   "id": "9ef63549-204d-4381-88dc-3b85f48e7fb7",
   "metadata": {},
   "source": [
    "Výpis vrstev a atributů včetně datových typů."
   ]
  },
  {
   "cell_type": "code",
   "execution_count": 4,
   "id": "c98e5f48-102a-476d-aafb-7e0f9e3f4eeb",
   "metadata": {},
   "outputs": [
    {
     "name": "stdout",
     "output_type": "stream",
     "text": [
      "2025-05-01 17:43:01,188 - GdalJvfDtmWrapper - INFO - Version 1.4.3 detected\n",
      "Vrstva: Budovy#Objekt_budovy#010000000104_Budova\n",
      "\tID\n",
      "\tIDZmeny\n",
      "\tPopisObjektu\n",
      "\tIDEditora\n",
      "\tDatumVkladu\n",
      "\tVkladOsoba\n",
      "\tDatumZmeny\n",
      "\tZmenaOsoba\n",
      "\tUrovenUmisteniObjektuZPS\n",
      "\tICS\n"
     ]
    }
   ],
   "source": [
    "with GdalJvfDtmWrapper(filename) as wrp:\n",
    "    for layer_name in wrp.layers:\n",
    "        print(f\"Vrstva: {layer_name}\")\n",
    "        for field_name in wrp.fields(layer_name):\n",
    "            print(f\"\\t{field_name}\")\n",
    "        break"
   ]
  }
 ],
 "metadata": {
  "kernelspec": {
   "display_name": "Python 3 (ipykernel)",
   "language": "python",
   "name": "python3"
  },
  "language_info": {
   "codemirror_mode": {
    "name": "ipython",
    "version": 3
   },
   "file_extension": ".py",
   "mimetype": "text/x-python",
   "name": "python",
   "nbconvert_exporter": "python",
   "pygments_lexer": "ipython3",
   "version": "3.13.3"
  }
 },
 "nbformat": 4,
 "nbformat_minor": 5
}
